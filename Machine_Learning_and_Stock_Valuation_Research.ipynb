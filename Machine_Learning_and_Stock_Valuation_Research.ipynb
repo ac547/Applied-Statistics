{
  "nbformat": 4,
  "nbformat_minor": 0,
  "metadata": {
    "kernelspec": {
      "display_name": "Python 3",
      "language": "python",
      "name": "python3"
    },
    "language_info": {
      "codemirror_mode": {
        "name": "ipython",
        "version": 3
      },
      "file_extension": ".py",
      "mimetype": "text/x-python",
      "name": "python",
      "nbconvert_exporter": "python",
      "pygments_lexer": "ipython3",
      "version": "3.7.6"
    },
    "colab": {
      "name": "Machine Learning and Stock Valuation Research.ipynb",
      "provenance": [],
      "include_colab_link": true
    }
  },
  "cells": [
    {
      "cell_type": "markdown",
      "metadata": {
        "id": "view-in-github",
        "colab_type": "text"
      },
      "source": [
        "<a href=\"https://colab.research.google.com/github/ac547/Applied-Statistics/blob/master/Machine_Learning_and_Stock_Valuation_Research.ipynb\" target=\"_parent\"><img src=\"https://colab.research.google.com/assets/colab-badge.svg\" alt=\"Open In Colab\"/></a>"
      ]
    },
    {
      "cell_type": "markdown",
      "metadata": {
        "id": "oJ546lVXtJ0b",
        "colab_type": "text"
      },
      "source": [
        "<h1><center> Machine Learning and Stock Valuation Research </center></h1>\n",
        "<h3><center> Andres Castellano </center></h3>\n",
        "<h4><center> CS675 Spring 2020, Prof. Ioannis Koutis </center></h4>\n",
        "<h4><center>New Jersey Institute of Technology</center></h4>\n",
        "\n",
        "\n",
        "# Premise\n",
        "\n",
        "In his 1776 book *The Wealth of Nations*, Adam Smith first noted that the operation of a market system creates a curious unity between private interests and social interests. Firms and resource suppliers seeking to further their own self interests and operating within the framework of a highly competitive market system, will simulataneously as though guided by an __invisible hand__, promote the public or social interest. It follows at least in theory that the social interest and a firm's own self interests are positively correlated and at a very fundamental level, a firm's value is tied to the value that it can provide to society. For example, imagine the valuation of a firm that succesfuly develops an effective vaccine against Covid-19.   \n",
        "\n",
        "It comes as no surprise that the ability to succesfully calculate a firm's valuation is highly profitable. For that reason, over the last two hundred years several theories have been developed to accomplish this. Most of these theories fall within two categories, fundamental and technical analysis. \n",
        "\n",
        "#### Fundamental Analysis\n",
        "\n",
        "Fundamental Analysis essentially tries to understand the foundation, or structure of a firm. Fundamental analysis looks at things such as \"Who is the CEO\" and how much cash does the firm has at hand. The Capital Asset Pricing Model goes to great extents to calculate all types of ratios and measurements of a firm's health. It looks at a firm's assets, liabilities, and its ability to operate. However, it does little to operate within the framework of social benefit. Needless to say, investors such as Warren Buffet have found great success using this approach, yet not everyone who has tried has succeded. There are plenty of horror stories. \n",
        "\n",
        "One possible downfall of using fundamental analysis is that it is based on snap shot information such as the balance sheet and income statements. Investors in Motorola Stock, at the beginning of 2006, had plenty of reasons to feel comfortable regarding the health of their investments. Students enetering college in the next five years do not know what Motorola is.\n",
        "\n",
        "#### Technical Analysis\n",
        "\n",
        "Technical analysts, essentially look at a stock's price chart as a function of time. The premise is similar to charting the trajectory of a projectile on a cartesian plane. It is well understood that you can tell everything regarding a projectile based on where it is on its flight path. However, this only works since there are fundamental laws (Gravity) determining the trajectory of objects through space. This is not the case for stock prices as a function of time. Although there is plenty of evidence supporting the effectiveness of technical analysis there is plenty of evidence contradicting those results. \n",
        "Throughout the 1990's Apple stock was relatively flat. There was no technical analysis suggesting it would become what it is today.\n",
        "\n",
        "#### Loosely defined Thesis: The Invisible Hand and Supply and Demand \n",
        "\n",
        "There are many interesting data sets exploring price changes as a function of nano seconds or sentiment analysis trying to understand how industry participants _sense_ a particular stock or industry. \n",
        "\n",
        "This exploration, however is of a different type. This notebook will take a more naïve approach. \n",
        "\n",
        "__Suppose that there is an actual correlation between the betterment of a firm's self interest and the betterment of social interests.\n",
        "That is, theories such as the law of supply and demand actually apply, and we can perfectly value a firm according to how much society actually demands its offerings.__\n",
        "\n",
        "1) The idea of an efficient market states that a security is priced by interactions between market participants. Which implies that the price of Apple stock isn't really determined by the social benefit Apple provides but by what market participants presume Apple stock is worth. \n",
        "\n",
        "One assumption of this paper is that stock traders and financial institutions are a middle man between a stock's true value and its percevied value. \n",
        "\n",
        "2) If we can use alternative data to understand what society actually needs, we can accurately calculate the real value of a firm as opposed to the percevied value as seen on NASDAQ for example. \n",
        "\n",
        "3) Naturally, the type of analysis porposed here is not appropriate for short term valuations. That is, a sufficiently long timeline is needed to observe any real deviations between a perceived valuation and a real valuation for any stock. \n",
        "\n",
        "Perhaps an example can help:\n",
        "\n",
        "Consider for example the market for orange juice options. A firm tracks the amount of sunlight received by orange trees in Florida and determines that given the current exposure to sunlight, there will be a low yield of oranges and thus a limited supply of oranges next term. A firm can explot this information to but the right to buy cheap oranges next term and sell them at a premium. Simple. \n",
        "\n",
        "Now consider you sitting in front of your laptop and tracking shipments of Silicon (Used in micro processors), Outputs of Silver and Tungsten from all mines around the world, political activity in countries producing these elements, as well as the consumer sentiment towards the next gen iPhone, how much money they are saving, how old their phone is, what their friends have to say, how often they replace their iPhone, and what they have for breakfast. In addition, you also track how much money apple is spending on R&D, what Samsung has to say about it and every single piece of information anyone can offer regarding Apple in any corner of the world. It stands to reason that if we know everything about Apple, we should be able to price Apple perfectly. \n"
      ]
    },
    {
      "cell_type": "markdown",
      "metadata": {
        "id": "-3BvU8txtJ0d",
        "colab_type": "text"
      },
      "source": [
        "# Realistic Considerations\n",
        "\n",
        "1) In an ideal world, time permitting, we should be able to accomplish this task for any particular stock by leveraging the power of big data. In this paper however, we will focus on one simple example in order to develop a proof of concept. If succesful, the study can be scaled further.\n",
        "\n",
        "2) Advances on the theory and computational resources today make it possible to train algorithms with hundreds or thousands of attributes (features (variables)). However, in depth research needs to be conducted to select appropriate features such as monetary transactions, social media sentiment, and  a plethora of other options. \n",
        "\n",
        "This notebook however, will focus on social interest as calculated by Google Search History and Stock Price Historical Data as provided by Yahoo finance.\n",
        "\n",
        "3) **This is a live set of considerations that may need to be updated as we go**\n"
      ]
    },
    {
      "cell_type": "markdown",
      "metadata": {
        "id": "DDUqDsxitJ0e",
        "colab_type": "text"
      },
      "source": [
        "## The Problem\n",
        "\n",
        "### Can we train an algorithm to succesfully predict the price of Apple stock using the price of its main competitor as well as Google Search History information for both companies and its products?\n",
        "\n",
        "This a supervised learning problem and more specifically a regression problem. \n",
        "\n",
        "## Performance Measure\n",
        "\n",
        "\n",
        "\n",
        "\n",
        "<h3><center> RMSE = $\\sqrt{\\frac{1}{m}\\sum_{i=1}^{m}(h({x}^{(i)})-y^{(i)})^{2} }$ </h3></center>\n",
        "\n",
        "\n",
        "\n",
        "The RMSE, root mean square error is a common performance measure for regression problems as it gives a higher weight to larger errors. "
      ]
    },
    {
      "cell_type": "code",
      "metadata": {
        "id": "6soWzEBQtJ0f",
        "colab_type": "code",
        "colab": {}
      },
      "source": [
        "import pandas as pd\n",
        "import numpy as np\n",
        "import os\n",
        "import time\n",
        "import matplotlib.pyplot as plt"
      ],
      "execution_count": null,
      "outputs": []
    },
    {
      "cell_type": "markdown",
      "metadata": {
        "id": "tZspq0e-tJ0k",
        "colab_type": "text"
      },
      "source": [
        "## The Data\n",
        "\n"
      ]
    },
    {
      "cell_type": "code",
      "metadata": {
        "id": "vazYKJ8MtJ0l",
        "colab_type": "code",
        "colab": {}
      },
      "source": [
        "my_path = r'C:\\Users\\Castellano\\Documents\\Spring2020\\CS675'\n",
        "\n",
        "APPLE_PATH = my_path\n",
        "SAMSUNG_PATH = my_path\n",
        "INTEREST_PATH = my_path\n",
        "\n",
        "def load_apple_data(apple_path=APPLE_PATH):\n",
        "    csv_path = os.path.join(apple_path, \"AAPL.csv\" )\n",
        "    return pd.read_csv(csv_path, parse_dates=True, index_col=0)\n",
        "\n",
        "def load_samsung_data(samsung_path=SAMSUNG_PATH):\n",
        "    csv_path = os.path.join(samsung_path, \"Samsung.csv\" )\n",
        "    return pd.read_csv(csv_path, parse_dates=True, index_col=0)\n",
        "\n",
        "def load_interest_data(interest_path=INTEREST_PATH):\n",
        "    csv_path = os.path.join(interest_path, \"Google_Interest.csv\" )\n",
        "    return pd.read_csv(csv_path, parse_dates=True, index_col=0)\n"
      ],
      "execution_count": null,
      "outputs": []
    },
    {
      "cell_type": "code",
      "metadata": {
        "id": "agqoybB8tJ0q",
        "colab_type": "code",
        "colab": {}
      },
      "source": [
        "apple = load_apple_data()\n",
        "samsung = load_samsung_data()\n",
        "interest = load_interest_data()"
      ],
      "execution_count": null,
      "outputs": []
    },
    {
      "cell_type": "markdown",
      "metadata": {
        "id": "r6td7SsEtJ0v",
        "colab_type": "text"
      },
      "source": [
        "### Apple\n",
        "\n",
        "Apple stock historical price data obtained from Yahoo finance. "
      ]
    },
    {
      "cell_type": "code",
      "metadata": {
        "id": "lKY67rVwtJ0x",
        "colab_type": "code",
        "colab": {},
        "outputId": "7090a733-142d-40e0-c07e-de6ac9fa5879"
      },
      "source": [
        "apple.info()\n",
        "apple.head()\n"
      ],
      "execution_count": null,
      "outputs": [
        {
          "output_type": "stream",
          "text": [
            "<class 'pandas.core.frame.DataFrame'>\n",
            "DatetimeIndex: 197 entries, 2004-02-01 to 2020-05-08\n",
            "Data columns (total 6 columns):\n",
            " #   Column     Non-Null Count  Dtype  \n",
            "---  ------     --------------  -----  \n",
            " 0   Open       197 non-null    float64\n",
            " 1   High       197 non-null    float64\n",
            " 2   Low        197 non-null    float64\n",
            " 3   Close      197 non-null    float64\n",
            " 4   Adj Close  197 non-null    float64\n",
            " 5   Volume     197 non-null    int64  \n",
            "dtypes: float64(5), int64(1)\n",
            "memory usage: 10.8 KB\n"
          ],
          "name": "stdout"
        },
        {
          "output_type": "execute_result",
          "data": {
            "text/html": [
              "<div>\n",
              "<style scoped>\n",
              "    .dataframe tbody tr th:only-of-type {\n",
              "        vertical-align: middle;\n",
              "    }\n",
              "\n",
              "    .dataframe tbody tr th {\n",
              "        vertical-align: top;\n",
              "    }\n",
              "\n",
              "    .dataframe thead th {\n",
              "        text-align: right;\n",
              "    }\n",
              "</style>\n",
              "<table border=\"1\" class=\"dataframe\">\n",
              "  <thead>\n",
              "    <tr style=\"text-align: right;\">\n",
              "      <th></th>\n",
              "      <th>Open</th>\n",
              "      <th>High</th>\n",
              "      <th>Low</th>\n",
              "      <th>Close</th>\n",
              "      <th>Adj Close</th>\n",
              "      <th>Volume</th>\n",
              "    </tr>\n",
              "    <tr>\n",
              "      <th>Date</th>\n",
              "      <th></th>\n",
              "      <th></th>\n",
              "      <th></th>\n",
              "      <th></th>\n",
              "      <th></th>\n",
              "      <th></th>\n",
              "    </tr>\n",
              "  </thead>\n",
              "  <tbody>\n",
              "    <tr>\n",
              "      <th>2004-02-01</th>\n",
              "      <td>1.604286</td>\n",
              "      <td>1.721429</td>\n",
              "      <td>1.550000</td>\n",
              "      <td>1.708571</td>\n",
              "      <td>1.479106</td>\n",
              "      <td>1230507600</td>\n",
              "    </tr>\n",
              "    <tr>\n",
              "      <th>2004-03-01</th>\n",
              "      <td>1.721429</td>\n",
              "      <td>2.010000</td>\n",
              "      <td>1.685714</td>\n",
              "      <td>1.931429</td>\n",
              "      <td>1.672033</td>\n",
              "      <td>2906528800</td>\n",
              "    </tr>\n",
              "    <tr>\n",
              "      <th>2004-04-01</th>\n",
              "      <td>1.920714</td>\n",
              "      <td>2.112857</td>\n",
              "      <td>1.820714</td>\n",
              "      <td>1.841429</td>\n",
              "      <td>1.594121</td>\n",
              "      <td>2232543600</td>\n",
              "    </tr>\n",
              "    <tr>\n",
              "      <th>2004-05-01</th>\n",
              "      <td>1.857143</td>\n",
              "      <td>2.055714</td>\n",
              "      <td>1.821429</td>\n",
              "      <td>2.004286</td>\n",
              "      <td>1.735105</td>\n",
              "      <td>1326068800</td>\n",
              "    </tr>\n",
              "    <tr>\n",
              "      <th>2004-06-01</th>\n",
              "      <td>1.985000</td>\n",
              "      <td>2.442143</td>\n",
              "      <td>1.972143</td>\n",
              "      <td>2.324286</td>\n",
              "      <td>2.012128</td>\n",
              "      <td>2056808600</td>\n",
              "    </tr>\n",
              "  </tbody>\n",
              "</table>\n",
              "</div>"
            ],
            "text/plain": [
              "                Open      High       Low     Close  Adj Close      Volume\n",
              "Date                                                                     \n",
              "2004-02-01  1.604286  1.721429  1.550000  1.708571   1.479106  1230507600\n",
              "2004-03-01  1.721429  2.010000  1.685714  1.931429   1.672033  2906528800\n",
              "2004-04-01  1.920714  2.112857  1.820714  1.841429   1.594121  2232543600\n",
              "2004-05-01  1.857143  2.055714  1.821429  2.004286   1.735105  1326068800\n",
              "2004-06-01  1.985000  2.442143  1.972143  2.324286   2.012128  2056808600"
            ]
          },
          "metadata": {
            "tags": []
          },
          "execution_count": 4
        }
      ]
    },
    {
      "cell_type": "markdown",
      "metadata": {
        "id": "fUWRRCqstJ04",
        "colab_type": "text"
      },
      "source": [
        "### Samsung\n",
        "\n",
        "Samsung stock historical price data obtained from Yahoo finance. "
      ]
    },
    {
      "cell_type": "code",
      "metadata": {
        "id": "4UEFHOK3tJ04",
        "colab_type": "code",
        "colab": {},
        "outputId": "de34f5c2-23ea-4428-f8c9-04bb42c3701f"
      },
      "source": [
        "samsung.info()\n",
        "samsung.head()"
      ],
      "execution_count": null,
      "outputs": [
        {
          "output_type": "stream",
          "text": [
            "<class 'pandas.core.frame.DataFrame'>\n",
            "DatetimeIndex: 197 entries, 2004-02-01 to 2020-05-08\n",
            "Data columns (total 6 columns):\n",
            " #   Column     Non-Null Count  Dtype  \n",
            "---  ------     --------------  -----  \n",
            " 0   Open       195 non-null    float64\n",
            " 1   High       195 non-null    float64\n",
            " 2   Low        195 non-null    float64\n",
            " 3   Close      195 non-null    float64\n",
            " 4   Adj Close  195 non-null    float64\n",
            " 5   Volume     195 non-null    float64\n",
            "dtypes: float64(6)\n",
            "memory usage: 10.8 KB\n"
          ],
          "name": "stdout"
        },
        {
          "output_type": "execute_result",
          "data": {
            "text/html": [
              "<div>\n",
              "<style scoped>\n",
              "    .dataframe tbody tr th:only-of-type {\n",
              "        vertical-align: middle;\n",
              "    }\n",
              "\n",
              "    .dataframe tbody tr th {\n",
              "        vertical-align: top;\n",
              "    }\n",
              "\n",
              "    .dataframe thead th {\n",
              "        text-align: right;\n",
              "    }\n",
              "</style>\n",
              "<table border=\"1\" class=\"dataframe\">\n",
              "  <thead>\n",
              "    <tr style=\"text-align: right;\">\n",
              "      <th></th>\n",
              "      <th>Open</th>\n",
              "      <th>High</th>\n",
              "      <th>Low</th>\n",
              "      <th>Close</th>\n",
              "      <th>Adj Close</th>\n",
              "      <th>Volume</th>\n",
              "    </tr>\n",
              "    <tr>\n",
              "      <th>Date</th>\n",
              "      <th></th>\n",
              "      <th></th>\n",
              "      <th></th>\n",
              "      <th></th>\n",
              "      <th></th>\n",
              "      <th></th>\n",
              "    </tr>\n",
              "  </thead>\n",
              "  <tbody>\n",
              "    <tr>\n",
              "      <th>2004-02-01</th>\n",
              "      <td>10480.0</td>\n",
              "      <td>11420.0</td>\n",
              "      <td>10060.0</td>\n",
              "      <td>10900.0</td>\n",
              "      <td>0.161625</td>\n",
              "      <td>443615000.0</td>\n",
              "    </tr>\n",
              "    <tr>\n",
              "      <th>2004-03-01</th>\n",
              "      <td>10900.0</td>\n",
              "      <td>11440.0</td>\n",
              "      <td>10140.0</td>\n",
              "      <td>11440.0</td>\n",
              "      <td>0.169632</td>\n",
              "      <td>537540000.0</td>\n",
              "    </tr>\n",
              "    <tr>\n",
              "      <th>2004-04-01</th>\n",
              "      <td>11400.0</td>\n",
              "      <td>12760.0</td>\n",
              "      <td>10980.0</td>\n",
              "      <td>11140.0</td>\n",
              "      <td>0.165184</td>\n",
              "      <td>716285000.0</td>\n",
              "    </tr>\n",
              "    <tr>\n",
              "      <th>2004-05-01</th>\n",
              "      <td>11140.0</td>\n",
              "      <td>11280.0</td>\n",
              "      <td>8960.0</td>\n",
              "      <td>10120.0</td>\n",
              "      <td>0.150059</td>\n",
              "      <td>769845000.0</td>\n",
              "    </tr>\n",
              "    <tr>\n",
              "      <th>2004-06-01</th>\n",
              "      <td>10160.0</td>\n",
              "      <td>10340.0</td>\n",
              "      <td>8420.0</td>\n",
              "      <td>9540.0</td>\n",
              "      <td>0.141459</td>\n",
              "      <td>741425000.0</td>\n",
              "    </tr>\n",
              "  </tbody>\n",
              "</table>\n",
              "</div>"
            ],
            "text/plain": [
              "               Open     High      Low    Close  Adj Close       Volume\n",
              "Date                                                                  \n",
              "2004-02-01  10480.0  11420.0  10060.0  10900.0   0.161625  443615000.0\n",
              "2004-03-01  10900.0  11440.0  10140.0  11440.0   0.169632  537540000.0\n",
              "2004-04-01  11400.0  12760.0  10980.0  11140.0   0.165184  716285000.0\n",
              "2004-05-01  11140.0  11280.0   8960.0  10120.0   0.150059  769845000.0\n",
              "2004-06-01  10160.0  10340.0   8420.0   9540.0   0.141459  741425000.0"
            ]
          },
          "metadata": {
            "tags": []
          },
          "execution_count": 5
        }
      ]
    },
    {
      "cell_type": "markdown",
      "metadata": {
        "id": "6YotF0TMtJ08",
        "colab_type": "text"
      },
      "source": [
        "### Google Interest Data\n",
        "\n",
        "This data was dowloaded from Google Search Trends service.\n"
      ]
    },
    {
      "cell_type": "code",
      "metadata": {
        "id": "MT-b-Ef-tJ09",
        "colab_type": "code",
        "colab": {},
        "outputId": "bf1c5982-8725-48f0-b088-4e3710bb005d"
      },
      "source": [
        "interest.info()\n",
        "interest.head()\n"
      ],
      "execution_count": null,
      "outputs": [
        {
          "output_type": "stream",
          "text": [
            "<class 'pandas.core.frame.DataFrame'>\n",
            "DatetimeIndex: 197 entries, 2004-01-01 to 2020-05-01\n",
            "Data columns (total 4 columns):\n",
            " #   Column          Non-Null Count  Dtype \n",
            "---  ------          --------------  ----- \n",
            " 0   Apple           197 non-null    int64 \n",
            " 1   iPhone          197 non-null    object\n",
            " 2   Android         197 non-null    object\n",
            " 3   Samsung Galaxy  197 non-null    object\n",
            "dtypes: int64(1), object(3)\n",
            "memory usage: 7.7+ KB\n"
          ],
          "name": "stdout"
        },
        {
          "output_type": "execute_result",
          "data": {
            "text/html": [
              "<div>\n",
              "<style scoped>\n",
              "    .dataframe tbody tr th:only-of-type {\n",
              "        vertical-align: middle;\n",
              "    }\n",
              "\n",
              "    .dataframe tbody tr th {\n",
              "        vertical-align: top;\n",
              "    }\n",
              "\n",
              "    .dataframe thead th {\n",
              "        text-align: right;\n",
              "    }\n",
              "</style>\n",
              "<table border=\"1\" class=\"dataframe\">\n",
              "  <thead>\n",
              "    <tr style=\"text-align: right;\">\n",
              "      <th></th>\n",
              "      <th>Apple</th>\n",
              "      <th>iPhone</th>\n",
              "      <th>Android</th>\n",
              "      <th>Samsung Galaxy</th>\n",
              "    </tr>\n",
              "    <tr>\n",
              "      <th>Month</th>\n",
              "      <th></th>\n",
              "      <th></th>\n",
              "      <th></th>\n",
              "      <th></th>\n",
              "    </tr>\n",
              "  </thead>\n",
              "  <tbody>\n",
              "    <tr>\n",
              "      <th>2004-01-01</th>\n",
              "      <td>10</td>\n",
              "      <td>&lt;1</td>\n",
              "      <td>&lt;1</td>\n",
              "      <td>&lt;1</td>\n",
              "    </tr>\n",
              "    <tr>\n",
              "      <th>2004-02-01</th>\n",
              "      <td>9</td>\n",
              "      <td>&lt;1</td>\n",
              "      <td>&lt;1</td>\n",
              "      <td>&lt;1</td>\n",
              "    </tr>\n",
              "    <tr>\n",
              "      <th>2004-03-01</th>\n",
              "      <td>8</td>\n",
              "      <td>&lt;1</td>\n",
              "      <td>&lt;1</td>\n",
              "      <td>&lt;1</td>\n",
              "    </tr>\n",
              "    <tr>\n",
              "      <th>2004-04-01</th>\n",
              "      <td>9</td>\n",
              "      <td>&lt;1</td>\n",
              "      <td>&lt;1</td>\n",
              "      <td>&lt;1</td>\n",
              "    </tr>\n",
              "    <tr>\n",
              "      <th>2004-05-01</th>\n",
              "      <td>9</td>\n",
              "      <td>&lt;1</td>\n",
              "      <td>&lt;1</td>\n",
              "      <td>&lt;1</td>\n",
              "    </tr>\n",
              "  </tbody>\n",
              "</table>\n",
              "</div>"
            ],
            "text/plain": [
              "            Apple iPhone Android Samsung Galaxy\n",
              "Month                                          \n",
              "2004-01-01     10     <1      <1             <1\n",
              "2004-02-01      9     <1      <1             <1\n",
              "2004-03-01      8     <1      <1             <1\n",
              "2004-04-01      9     <1      <1             <1\n",
              "2004-05-01      9     <1      <1             <1"
            ]
          },
          "metadata": {
            "tags": []
          },
          "execution_count": 6
        }
      ]
    },
    {
      "cell_type": "markdown",
      "metadata": {
        "id": "cHN4BwfftJ1D",
        "colab_type": "text"
      },
      "source": [
        "### A bit of cleanup \n",
        "...to replace \"<1\" values. Google measures interest as an index integer. However, Google search interest for the iPhone before 2006 is naturally non existent. In situations like this, the Google Search Interest service provides a vlaue of 0.5 which for our purposes we will replace will 0.1."
      ]
    },
    {
      "cell_type": "code",
      "metadata": {
        "id": "-GojDQpjtJ1E",
        "colab_type": "code",
        "colab": {},
        "outputId": "8515e047-ebd0-46f6-b823-50c950deb600"
      },
      "source": [
        "interest.iPhone.replace('<1',0.1,inplace=True)\n",
        "interest.Android.replace('<1',0.1,inplace=True)\n",
        "interest['Samsung Galaxy'].replace('<1',0.1,inplace=True)\n",
        "\n",
        "interest[['iPhone',\n",
        "          'Android',\n",
        "          'Samsung Galaxy']] = interest[['iPhone',\n",
        "                                       'Android',\n",
        "                                       'Samsung Galaxy']].astype('float64')\n",
        "\n",
        "interest.info()\n",
        "interest.head()"
      ],
      "execution_count": null,
      "outputs": [
        {
          "output_type": "stream",
          "text": [
            "<class 'pandas.core.frame.DataFrame'>\n",
            "DatetimeIndex: 197 entries, 2004-01-01 to 2020-05-01\n",
            "Data columns (total 4 columns):\n",
            " #   Column          Non-Null Count  Dtype  \n",
            "---  ------          --------------  -----  \n",
            " 0   Apple           197 non-null    int64  \n",
            " 1   iPhone          197 non-null    float64\n",
            " 2   Android         197 non-null    float64\n",
            " 3   Samsung Galaxy  197 non-null    float64\n",
            "dtypes: float64(3), int64(1)\n",
            "memory usage: 7.7 KB\n"
          ],
          "name": "stdout"
        },
        {
          "output_type": "execute_result",
          "data": {
            "text/html": [
              "<div>\n",
              "<style scoped>\n",
              "    .dataframe tbody tr th:only-of-type {\n",
              "        vertical-align: middle;\n",
              "    }\n",
              "\n",
              "    .dataframe tbody tr th {\n",
              "        vertical-align: top;\n",
              "    }\n",
              "\n",
              "    .dataframe thead th {\n",
              "        text-align: right;\n",
              "    }\n",
              "</style>\n",
              "<table border=\"1\" class=\"dataframe\">\n",
              "  <thead>\n",
              "    <tr style=\"text-align: right;\">\n",
              "      <th></th>\n",
              "      <th>Apple</th>\n",
              "      <th>iPhone</th>\n",
              "      <th>Android</th>\n",
              "      <th>Samsung Galaxy</th>\n",
              "    </tr>\n",
              "    <tr>\n",
              "      <th>Month</th>\n",
              "      <th></th>\n",
              "      <th></th>\n",
              "      <th></th>\n",
              "      <th></th>\n",
              "    </tr>\n",
              "  </thead>\n",
              "  <tbody>\n",
              "    <tr>\n",
              "      <th>2004-01-01</th>\n",
              "      <td>10</td>\n",
              "      <td>0.1</td>\n",
              "      <td>0.1</td>\n",
              "      <td>0.1</td>\n",
              "    </tr>\n",
              "    <tr>\n",
              "      <th>2004-02-01</th>\n",
              "      <td>9</td>\n",
              "      <td>0.1</td>\n",
              "      <td>0.1</td>\n",
              "      <td>0.1</td>\n",
              "    </tr>\n",
              "    <tr>\n",
              "      <th>2004-03-01</th>\n",
              "      <td>8</td>\n",
              "      <td>0.1</td>\n",
              "      <td>0.1</td>\n",
              "      <td>0.1</td>\n",
              "    </tr>\n",
              "    <tr>\n",
              "      <th>2004-04-01</th>\n",
              "      <td>9</td>\n",
              "      <td>0.1</td>\n",
              "      <td>0.1</td>\n",
              "      <td>0.1</td>\n",
              "    </tr>\n",
              "    <tr>\n",
              "      <th>2004-05-01</th>\n",
              "      <td>9</td>\n",
              "      <td>0.1</td>\n",
              "      <td>0.1</td>\n",
              "      <td>0.1</td>\n",
              "    </tr>\n",
              "  </tbody>\n",
              "</table>\n",
              "</div>"
            ],
            "text/plain": [
              "            Apple  iPhone  Android  Samsung Galaxy\n",
              "Month                                             \n",
              "2004-01-01     10     0.1      0.1             0.1\n",
              "2004-02-01      9     0.1      0.1             0.1\n",
              "2004-03-01      8     0.1      0.1             0.1\n",
              "2004-04-01      9     0.1      0.1             0.1\n",
              "2004-05-01      9     0.1      0.1             0.1"
            ]
          },
          "metadata": {
            "tags": []
          },
          "execution_count": 7
        }
      ]
    },
    {
      "cell_type": "code",
      "metadata": {
        "id": "J8yWdoWUtJ1K",
        "colab_type": "code",
        "colab": {},
        "outputId": "d1efe7cd-34da-4cea-9556-b7f914dca3e8"
      },
      "source": [
        "interest[['Apple','iPhone','Android','Samsung Galaxy']].plot()"
      ],
      "execution_count": null,
      "outputs": [
        {
          "output_type": "execute_result",
          "data": {
            "text/plain": [
              "<matplotlib.axes._subplots.AxesSubplot at 0x17c2dfc03c8>"
            ]
          },
          "metadata": {
            "tags": []
          },
          "execution_count": 8
        },
        {
          "output_type": "display_data",
          "data": {
            "image/png": "[encoded data removed]",
            "text/plain": [
              "<Figure size 432x288 with 1 Axes>"
            ]
          },
          "metadata": {
            "tags": [],
            "needs_background": "light"
          }
        }
      ]
    },
    {
      "cell_type": "code",
      "metadata": {
        "scrolled": true,
        "id": "RO1CYpiLtJ1P",
        "colab_type": "code",
        "colab": {},
        "outputId": "a499d352-8a66-4b24-c505-eafc69782eda"
      },
      "source": [
        "fig, axes = plt.subplots(nrows= 2, ncols=1,\n",
        "                        sharex=True,\n",
        "                        sharey=True,\n",
        "                        figsize=(12,7))\n",
        "#interest[['Apple','iPhone','Android','Samsung Galaxy']].plot(ax=axes[0])\n",
        "apple.Open.plot(ax=axes[0])\n",
        "axes[0].set_title('Apple Stock Prices')\n",
        "samsung.Open.plot(ax=axes[1])\n",
        "axes[1].set_title('Samsung Stock Prices')"
      ],
      "execution_count": null,
      "outputs": [
        {
          "output_type": "execute_result",
          "data": {
            "text/plain": [
              "Text(0.5, 1.0, 'Samsung Stock Prices')"
            ]
          },
          "metadata": {
            "tags": []
          },
          "execution_count": 9
        },
        {
          "output_type": "display_data",
          "data": {
            "image/png": "[encoded data removed]",
            "text/plain": [
              "<Figure size 864x504 with 2 Axes>"
            ]
          },
          "metadata": {
            "tags": [],
            "needs_background": "light"
          }
        }
      ]
    },
    {
      "cell_type": "markdown",
      "metadata": {
        "id": "PgQ4N9yPtJ1T",
        "colab_type": "text"
      },
      "source": [
        "Apparently, the Samsung stock price data is listed in Korean (Won) currency. \n",
        "As of 5/10/2020 One U.S Dollar is approximately 1220 Korean Won.\n",
        "Later, we will normalize these features but for the sake of visulaiztion here, we will just divide by 1220."
      ]
    },
    {
      "cell_type": "code",
      "metadata": {
        "id": "QDxQsvrttJ1U",
        "colab_type": "code",
        "colab": {},
        "outputId": "31f661fd-38f2-4e25-fdf6-16ad3497d8f3"
      },
      "source": [
        "samsung.Open = samsung.Open/1220\n",
        "samsung.Open.plot()\n",
        "samsung.Open = samsung.Open*1220"
      ],
      "execution_count": null,
      "outputs": [
        {
          "output_type": "display_data",
          "data": {
            "image/png": "[encoded data removed]",
            "text/plain": [
              "<Figure size 432x288 with 1 Axes>"
            ]
          },
          "metadata": {
            "tags": [],
            "needs_background": "light"
          }
        }
      ]
    },
    {
      "cell_type": "code",
      "metadata": {
        "id": "2ypL0WL8tJ1X",
        "colab_type": "code",
        "colab": {},
        "outputId": "55be46b1-7314-43ef-9d1e-d4948ab87789"
      },
      "source": [
        "fig, axes = plt.subplots(nrows= 3, ncols=1,\n",
        "                        sharex=True,\n",
        "                        sharey=True,\n",
        "                        figsize=(12,7))\n",
        "interest[['Apple','iPhone','Android','Samsung Galaxy']].plot(ax=axes[0])\n",
        "axes[0].set_title('Google Search Interest Index')\n",
        "apple.Open.plot(ax=axes[1])\n",
        "axes[1].set_title('Apple Stock Prices')\n",
        "samsung.Open = samsung.Open/1220\n",
        "samsung.Open.plot(ax=axes[2])\n",
        "samsung.Open = samsung.Open*1220\n",
        "axes[2].set_title('Samsung Stock Prices')"
      ],
      "execution_count": null,
      "outputs": [
        {
          "output_type": "execute_result",
          "data": {
            "text/plain": [
              "Text(0.5, 1.0, 'Samsung Stock Prices')"
            ]
          },
          "metadata": {
            "tags": []
          },
          "execution_count": 11
        },
        {
          "output_type": "display_data",
          "data": {
            "image/png": "[encoded data removed]",
            "text/plain": [
              "<Figure size 864x504 with 3 Axes>"
            ]
          },
          "metadata": {
            "tags": [],
            "needs_background": "light"
          }
        }
      ]
    },
    {
      "cell_type": "markdown",
      "metadata": {
        "id": "qd3wHH-OtJ1c",
        "colab_type": "text"
      },
      "source": [
        "## Feature Scaling\n",
        "\n",
        "Machine Learning algorithms do not perform well when features are on significantly different scale. \n",
        "From the charts above it is easy to see that our Search Interest Indices are between 1 and 100 and so are our samsung prices once divided by 1000. Our apple stock prices however are in the range of 0 to 300. "
      ]
    },
    {
      "cell_type": "code",
      "metadata": {
        "id": "an7poHuztJ1d",
        "colab_type": "code",
        "colab": {}
      },
      "source": [
        "from sklearn.preprocessing import StandardScaler\n",
        "\n",
        "sc = StandardScaler()\n",
        "\n"
      ],
      "execution_count": null,
      "outputs": []
    },
    {
      "cell_type": "markdown",
      "metadata": {
        "id": "fldcyLpFtJ1i",
        "colab_type": "text"
      },
      "source": [
        "Before we scale everything, let's get an idea of what our training data will look like."
      ]
    },
    {
      "cell_type": "code",
      "metadata": {
        "id": "ydV_YzTgtJ1j",
        "colab_type": "code",
        "colab": {}
      },
      "source": [
        "samsung.rename(columns={'Open': 'Samsung Price'},\n",
        "              inplace=True)\n",
        "train = pd.merge(interest, samsung['Samsung Price'], left_index=True, right_index=True, how='inner')\n"
      ],
      "execution_count": null,
      "outputs": []
    },
    {
      "cell_type": "code",
      "metadata": {
        "id": "dQXj00NatJ1o",
        "colab_type": "code",
        "colab": {},
        "outputId": "8332b1e5-aa55-4d71-fe81-dee7ddb0799b"
      },
      "source": [
        "train.head()"
      ],
      "execution_count": null,
      "outputs": [
        {
          "output_type": "execute_result",
          "data": {
            "text/html": [
              "<div>\n",
              "<style scoped>\n",
              "    .dataframe tbody tr th:only-of-type {\n",
              "        vertical-align: middle;\n",
              "    }\n",
              "\n",
              "    .dataframe tbody tr th {\n",
              "        vertical-align: top;\n",
              "    }\n",
              "\n",
              "    .dataframe thead th {\n",
              "        text-align: right;\n",
              "    }\n",
              "</style>\n",
              "<table border=\"1\" class=\"dataframe\">\n",
              "  <thead>\n",
              "    <tr style=\"text-align: right;\">\n",
              "      <th></th>\n",
              "      <th>Apple</th>\n",
              "      <th>iPhone</th>\n",
              "      <th>Android</th>\n",
              "      <th>Samsung Galaxy</th>\n",
              "      <th>Samsung Price</th>\n",
              "    </tr>\n",
              "  </thead>\n",
              "  <tbody>\n",
              "    <tr>\n",
              "      <th>2004-02-01</th>\n",
              "      <td>9</td>\n",
              "      <td>0.1</td>\n",
              "      <td>0.1</td>\n",
              "      <td>0.1</td>\n",
              "      <td>10480.0</td>\n",
              "    </tr>\n",
              "    <tr>\n",
              "      <th>2004-03-01</th>\n",
              "      <td>8</td>\n",
              "      <td>0.1</td>\n",
              "      <td>0.1</td>\n",
              "      <td>0.1</td>\n",
              "      <td>10900.0</td>\n",
              "    </tr>\n",
              "    <tr>\n",
              "      <th>2004-04-01</th>\n",
              "      <td>9</td>\n",
              "      <td>0.1</td>\n",
              "      <td>0.1</td>\n",
              "      <td>0.1</td>\n",
              "      <td>11400.0</td>\n",
              "    </tr>\n",
              "    <tr>\n",
              "      <th>2004-05-01</th>\n",
              "      <td>9</td>\n",
              "      <td>0.1</td>\n",
              "      <td>0.1</td>\n",
              "      <td>0.1</td>\n",
              "      <td>11140.0</td>\n",
              "    </tr>\n",
              "    <tr>\n",
              "      <th>2004-06-01</th>\n",
              "      <td>10</td>\n",
              "      <td>0.1</td>\n",
              "      <td>0.1</td>\n",
              "      <td>0.1</td>\n",
              "      <td>10160.0</td>\n",
              "    </tr>\n",
              "  </tbody>\n",
              "</table>\n",
              "</div>"
            ],
            "text/plain": [
              "            Apple  iPhone  Android  Samsung Galaxy  Samsung Price\n",
              "2004-02-01      9     0.1      0.1             0.1        10480.0\n",
              "2004-03-01      8     0.1      0.1             0.1        10900.0\n",
              "2004-04-01      9     0.1      0.1             0.1        11400.0\n",
              "2004-05-01      9     0.1      0.1             0.1        11140.0\n",
              "2004-06-01     10     0.1      0.1             0.1        10160.0"
            ]
          },
          "metadata": {
            "tags": []
          },
          "execution_count": 53
        }
      ]
    },
    {
      "cell_type": "code",
      "metadata": {
        "id": "uc4Q19agtJ1r",
        "colab_type": "code",
        "colab": {}
      },
      "source": [
        "apple.rename(columns={'Open' : 'Apple Price'},\n",
        "            inplace=True)\n",
        "\n",
        "train = pd.merge(train, apple['Apple Price'], left_index=True, right_index=True, how='inner') "
      ],
      "execution_count": null,
      "outputs": []
    },
    {
      "cell_type": "code",
      "metadata": {
        "id": "_q7vGR-4tJ1w",
        "colab_type": "code",
        "colab": {},
        "outputId": "7001c78d-dbcb-4a5b-fd60-eaff4fe24854"
      },
      "source": [
        "train.info()\n",
        "train.head()"
      ],
      "execution_count": null,
      "outputs": [
        {
          "output_type": "stream",
          "text": [
            "<class 'pandas.core.frame.DataFrame'>\n",
            "DatetimeIndex: 196 entries, 2004-02-01 to 2020-05-01\n",
            "Data columns (total 6 columns):\n",
            " #   Column          Non-Null Count  Dtype  \n",
            "---  ------          --------------  -----  \n",
            " 0   Apple           196 non-null    int64  \n",
            " 1   iPhone          196 non-null    float64\n",
            " 2   Android         196 non-null    float64\n",
            " 3   Samsung Galaxy  196 non-null    float64\n",
            " 4   Samsung Price   194 non-null    float64\n",
            " 5   Apple Price     196 non-null    float64\n",
            "dtypes: float64(5), int64(1)\n",
            "memory usage: 10.7 KB\n"
          ],
          "name": "stdout"
        },
        {
          "output_type": "execute_result",
          "data": {
            "text/html": [
              "<div>\n",
              "<style scoped>\n",
              "    .dataframe tbody tr th:only-of-type {\n",
              "        vertical-align: middle;\n",
              "    }\n",
              "\n",
              "    .dataframe tbody tr th {\n",
              "        vertical-align: top;\n",
              "    }\n",
              "\n",
              "    .dataframe thead th {\n",
              "        text-align: right;\n",
              "    }\n",
              "</style>\n",
              "<table border=\"1\" class=\"dataframe\">\n",
              "  <thead>\n",
              "    <tr style=\"text-align: right;\">\n",
              "      <th></th>\n",
              "      <th>Apple</th>\n",
              "      <th>iPhone</th>\n",
              "      <th>Android</th>\n",
              "      <th>Samsung Galaxy</th>\n",
              "      <th>Samsung Price</th>\n",
              "      <th>Apple Price</th>\n",
              "    </tr>\n",
              "  </thead>\n",
              "  <tbody>\n",
              "    <tr>\n",
              "      <th>2004-02-01</th>\n",
              "      <td>9</td>\n",
              "      <td>0.1</td>\n",
              "      <td>0.1</td>\n",
              "      <td>0.1</td>\n",
              "      <td>10480.0</td>\n",
              "      <td>1.604286</td>\n",
              "    </tr>\n",
              "    <tr>\n",
              "      <th>2004-03-01</th>\n",
              "      <td>8</td>\n",
              "      <td>0.1</td>\n",
              "      <td>0.1</td>\n",
              "      <td>0.1</td>\n",
              "      <td>10900.0</td>\n",
              "      <td>1.721429</td>\n",
              "    </tr>\n",
              "    <tr>\n",
              "      <th>2004-04-01</th>\n",
              "      <td>9</td>\n",
              "      <td>0.1</td>\n",
              "      <td>0.1</td>\n",
              "      <td>0.1</td>\n",
              "      <td>11400.0</td>\n",
              "      <td>1.920714</td>\n",
              "    </tr>\n",
              "    <tr>\n",
              "      <th>2004-05-01</th>\n",
              "      <td>9</td>\n",
              "      <td>0.1</td>\n",
              "      <td>0.1</td>\n",
              "      <td>0.1</td>\n",
              "      <td>11140.0</td>\n",
              "      <td>1.857143</td>\n",
              "    </tr>\n",
              "    <tr>\n",
              "      <th>2004-06-01</th>\n",
              "      <td>10</td>\n",
              "      <td>0.1</td>\n",
              "      <td>0.1</td>\n",
              "      <td>0.1</td>\n",
              "      <td>10160.0</td>\n",
              "      <td>1.985000</td>\n",
              "    </tr>\n",
              "  </tbody>\n",
              "</table>\n",
              "</div>"
            ],
            "text/plain": [
              "            Apple  iPhone  Android  Samsung Galaxy  Samsung Price  Apple Price\n",
              "2004-02-01      9     0.1      0.1             0.1        10480.0     1.604286\n",
              "2004-03-01      8     0.1      0.1             0.1        10900.0     1.721429\n",
              "2004-04-01      9     0.1      0.1             0.1        11400.0     1.920714\n",
              "2004-05-01      9     0.1      0.1             0.1        11140.0     1.857143\n",
              "2004-06-01     10     0.1      0.1             0.1        10160.0     1.985000"
            ]
          },
          "metadata": {
            "tags": []
          },
          "execution_count": 114
        }
      ]
    },
    {
      "cell_type": "code",
      "metadata": {
        "id": "N5LGClyftJ12",
        "colab_type": "code",
        "colab": {}
      },
      "source": [
        "from sklearn.model_selection import train_test_split\n",
        "\n",
        "train_set, test_set = train_test_split(train, test_size=0.2, random_state=42)\n",
        "\n",
        "train_set = train_set.dropna()\n",
        "\n",
        "stocks = train_set.drop(\"Apple Price\", axis=1)\n",
        "stocks_labels = train_set['Apple Price'].copy()\n",
        "stocks_labels = stocks_labels.dropna()\n",
        "stocks = stocks.dropna()"
      ],
      "execution_count": null,
      "outputs": []
    },
    {
      "cell_type": "code",
      "metadata": {
        "id": "S_4JFCrytJ19",
        "colab_type": "code",
        "colab": {}
      },
      "source": [
        "from sklearn.compose import ColumnTransformer\n",
        "from sklearn.preprocessing import MinMaxScaler\n",
        "\n",
        "attribs = list(stocks)\n",
        "\n",
        "pipeline = ColumnTransformer([\n",
        "    (\"num\", MinMaxScaler(), attribs),])"
      ],
      "execution_count": null,
      "outputs": []
    },
    {
      "cell_type": "code",
      "metadata": {
        "id": "dkzUJeYltJ2B",
        "colab_type": "code",
        "colab": {}
      },
      "source": [
        "stocks_prepared = pipeline.fit_transform(stocks)\n"
      ],
      "execution_count": null,
      "outputs": []
    },
    {
      "cell_type": "code",
      "metadata": {
        "id": "Jem_m16WtJ2E",
        "colab_type": "code",
        "colab": {},
        "outputId": "e3a17d87-70dd-44bf-b227-1afca733e47a"
      },
      "source": [
        "stocks_prepared.shape\n",
        "#stocks_labels.shape\n"
      ],
      "execution_count": null,
      "outputs": [
        {
          "output_type": "execute_result",
          "data": {
            "text/plain": [
              "(154, 5)"
            ]
          },
          "metadata": {
            "tags": []
          },
          "execution_count": 134
        }
      ]
    },
    {
      "cell_type": "markdown",
      "metadata": {
        "id": "uwtOBj2ftJ2G",
        "colab_type": "text"
      },
      "source": [
        "## Training the Algorithm\n",
        "\n",
        "### Linear Regression"
      ]
    },
    {
      "cell_type": "code",
      "metadata": {
        "id": "7ZXPLhIdtJ2H",
        "colab_type": "code",
        "colab": {},
        "outputId": "e1b67564-45ca-41ae-9b3d-8cf6b9fb065c"
      },
      "source": [
        "from sklearn.linear_model import LinearRegression\n",
        "\n",
        "lin_reg = LinearRegression()\n",
        "lin_reg.fit(stocks_prepared, stocks_labels)"
      ],
      "execution_count": null,
      "outputs": [
        {
          "output_type": "execute_result",
          "data": {
            "text/plain": [
              "LinearRegression(copy_X=True, fit_intercept=True, n_jobs=None, normalize=False)"
            ]
          },
          "metadata": {
            "tags": []
          },
          "execution_count": 135
        }
      ]
    },
    {
      "cell_type": "code",
      "metadata": {
        "id": "kBP2suE4tJ2K",
        "colab_type": "code",
        "colab": {},
        "outputId": "8c4b53c3-674e-4af1-81c5-dfd9e048234c"
      },
      "source": [
        "some_data = stocks.iloc[:5]\n",
        "some_labels = stocks_labels.iloc[:5]\n",
        "some_data_prepared = pipeline.transform(some_data)\n",
        "print(\"Predictions:\", lin_reg.predict(some_data_prepared))"
      ],
      "execution_count": null,
      "outputs": [
        {
          "output_type": "stream",
          "text": [
            "Predictions: [ -2.48384125   3.4803329   92.68279647  99.35567573 202.82977397]\n"
          ],
          "name": "stdout"
        }
      ]
    },
    {
      "cell_type": "code",
      "metadata": {
        "id": "h5pPR--PtJ2N",
        "colab_type": "code",
        "colab": {},
        "outputId": "8ff5fccd-02ad-46ee-b28f-832b9364a300"
      },
      "source": [
        "print(\"Labels:\", list(some_labels))"
      ],
      "execution_count": null,
      "outputs": [
        {
          "output_type": "stream",
          "text": [
            "Labels: [2.292857, 20.5, 130.279999, 78.309998, 167.169998]\n"
          ],
          "name": "stdout"
        }
      ]
    },
    {
      "cell_type": "code",
      "metadata": {
        "id": "tJbcfaKxtJ2R",
        "colab_type": "code",
        "colab": {},
        "outputId": "38bf2041-99d8-4101-c974-7f2ae09aaa5a"
      },
      "source": [
        "from sklearn.metrics import mean_squared_error\n",
        "\n",
        "stock_predictions = lin_reg.predict(stocks_prepared)\n",
        "lin_mse = mean_squared_error(stocks_labels, stock_predictions)\n",
        "lin_rmse = np.sqrt(lin_mse)\n",
        "lin_rmse"
      ],
      "execution_count": null,
      "outputs": [
        {
          "output_type": "execute_result",
          "data": {
            "text/plain": [
              "20.984538710805335"
            ]
          },
          "metadata": {
            "tags": []
          },
          "execution_count": 140
        }
      ]
    },
    {
      "cell_type": "code",
      "metadata": {
        "id": "jLWdD5UDtJ2U",
        "colab_type": "code",
        "colab": {},
        "outputId": "4eb5fcab-d479-4f61-d18b-425de7f29093"
      },
      "source": [
        "apple.tail().describe()"
      ],
      "execution_count": null,
      "outputs": [
        {
          "output_type": "execute_result",
          "data": {
            "text/html": [
              "<div>\n",
              "<style scoped>\n",
              "    .dataframe tbody tr th:only-of-type {\n",
              "        vertical-align: middle;\n",
              "    }\n",
              "\n",
              "    .dataframe tbody tr th {\n",
              "        vertical-align: top;\n",
              "    }\n",
              "\n",
              "    .dataframe thead th {\n",
              "        text-align: right;\n",
              "    }\n",
              "</style>\n",
              "<table border=\"1\" class=\"dataframe\">\n",
              "  <thead>\n",
              "    <tr style=\"text-align: right;\">\n",
              "      <th></th>\n",
              "      <th>Apple Price</th>\n",
              "      <th>High</th>\n",
              "      <th>Low</th>\n",
              "      <th>Close</th>\n",
              "      <th>Adj Close</th>\n",
              "      <th>Volume</th>\n",
              "    </tr>\n",
              "  </thead>\n",
              "  <tbody>\n",
              "    <tr>\n",
              "      <th>count</th>\n",
              "      <td>5.000000</td>\n",
              "      <td>5.000000</td>\n",
              "      <td>5.000000</td>\n",
              "      <td>5.000000</td>\n",
              "      <td>5.000000</td>\n",
              "      <td>5.000000e+00</td>\n",
              "    </tr>\n",
              "    <tr>\n",
              "      <th>mean</th>\n",
              "      <td>284.994000</td>\n",
              "      <td>309.290002</td>\n",
              "      <td>259.204001</td>\n",
              "      <td>288.341995</td>\n",
              "      <td>287.601926</td>\n",
              "      <td>6.806709e+08</td>\n",
              "    </tr>\n",
              "    <tr>\n",
              "      <th>std</th>\n",
              "      <td>23.925460</td>\n",
              "      <td>11.932874</td>\n",
              "      <td>36.807808</td>\n",
              "      <td>24.306501</td>\n",
              "      <td>24.531945</td>\n",
              "      <td>5.996545e+08</td>\n",
              "    </tr>\n",
              "    <tr>\n",
              "      <th>min</th>\n",
              "      <td>246.500000</td>\n",
              "      <td>294.529999</td>\n",
              "      <td>212.610001</td>\n",
              "      <td>254.289993</td>\n",
              "      <td>253.603500</td>\n",
              "      <td>3.351198e+07</td>\n",
              "    </tr>\n",
              "    <tr>\n",
              "      <th>25%</th>\n",
              "      <td>282.279999</td>\n",
              "      <td>304.000000</td>\n",
              "      <td>236.899994</td>\n",
              "      <td>273.359985</td>\n",
              "      <td>271.976532</td>\n",
              "      <td>2.283308e+08</td>\n",
              "    </tr>\n",
              "    <tr>\n",
              "      <th>50%</th>\n",
              "      <td>286.250000</td>\n",
              "      <td>310.350006</td>\n",
              "      <td>256.369995</td>\n",
              "      <td>293.799988</td>\n",
              "      <td>293.006836</td>\n",
              "      <td>7.549628e+08</td>\n",
              "    </tr>\n",
              "    <tr>\n",
              "      <th>75%</th>\n",
              "      <td>304.299988</td>\n",
              "      <td>310.350006</td>\n",
              "      <td>285.850006</td>\n",
              "      <td>310.130005</td>\n",
              "      <td>309.292755</td>\n",
              "      <td>8.165308e+08</td>\n",
              "    </tr>\n",
              "    <tr>\n",
              "      <th>max</th>\n",
              "      <td>305.640015</td>\n",
              "      <td>327.220001</td>\n",
              "      <td>304.290009</td>\n",
              "      <td>310.130005</td>\n",
              "      <td>310.130005</td>\n",
              "      <td>1.570018e+09</td>\n",
              "    </tr>\n",
              "  </tbody>\n",
              "</table>\n",
              "</div>"
            ],
            "text/plain": [
              "       Apple Price        High         Low       Close   Adj Close  \\\n",
              "count     5.000000    5.000000    5.000000    5.000000    5.000000   \n",
              "mean    284.994000  309.290002  259.204001  288.341995  287.601926   \n",
              "std      23.925460   11.932874   36.807808   24.306501   24.531945   \n",
              "min     246.500000  294.529999  212.610001  254.289993  253.603500   \n",
              "25%     282.279999  304.000000  236.899994  273.359985  271.976532   \n",
              "50%     286.250000  310.350006  256.369995  293.799988  293.006836   \n",
              "75%     304.299988  310.350006  285.850006  310.130005  309.292755   \n",
              "max     305.640015  327.220001  304.290009  310.130005  310.130005   \n",
              "\n",
              "             Volume  \n",
              "count  5.000000e+00  \n",
              "mean   6.806709e+08  \n",
              "std    5.996545e+08  \n",
              "min    3.351198e+07  \n",
              "25%    2.283308e+08  \n",
              "50%    7.549628e+08  \n",
              "75%    8.165308e+08  \n",
              "max    1.570018e+09  "
            ]
          },
          "metadata": {
            "tags": []
          },
          "execution_count": 148
        }
      ]
    },
    {
      "cell_type": "markdown",
      "metadata": {
        "id": "vVRRbwzMtJ2Y",
        "colab_type": "text"
      },
      "source": [
        "### Decision Tree Regressor"
      ]
    },
    {
      "cell_type": "code",
      "metadata": {
        "id": "ny7ynYUktJ2Y",
        "colab_type": "code",
        "colab": {},
        "outputId": "f5abd4e8-e691-43bd-aa00-cfd15dc1facf"
      },
      "source": [
        "from sklearn.tree import DecisionTreeRegressor\n",
        "\n",
        "tree_reg = DecisionTreeRegressor()\n",
        "tree_reg.fit(stocks_prepared, stocks_labels)"
      ],
      "execution_count": null,
      "outputs": [
        {
          "output_type": "execute_result",
          "data": {
            "text/plain": [
              "DecisionTreeRegressor(ccp_alpha=0.0, criterion='mse', max_depth=None,\n",
              "                      max_features=None, max_leaf_nodes=None,\n",
              "                      min_impurity_decrease=0.0, min_impurity_split=None,\n",
              "                      min_samples_leaf=1, min_samples_split=2,\n",
              "                      min_weight_fraction_leaf=0.0, presort='deprecated',\n",
              "                      random_state=None, splitter='best')"
            ]
          },
          "metadata": {
            "tags": []
          },
          "execution_count": 149
        }
      ]
    },
    {
      "cell_type": "code",
      "metadata": {
        "id": "-Q1nDZymtJ2b",
        "colab_type": "code",
        "colab": {},
        "outputId": "5474bac2-5e82-4c5f-a7fd-650400e1ab28"
      },
      "source": [
        "stock_predictions = tree_reg.predict(stocks_prepared)\n",
        "tree_mse = mean_squared_error(stocks_labels, stock_predictions)\n",
        "tree_rmse = np.sqrt(tree_mse)\n",
        "tree_rmse"
      ],
      "execution_count": null,
      "outputs": [
        {
          "output_type": "execute_result",
          "data": {
            "text/plain": [
              "0.0"
            ]
          },
          "metadata": {
            "tags": []
          },
          "execution_count": 151
        }
      ]
    },
    {
      "cell_type": "markdown",
      "metadata": {
        "id": "a7cka4rXtJ2d",
        "colab_type": "text"
      },
      "source": [
        "### Cross Validation"
      ]
    },
    {
      "cell_type": "code",
      "metadata": {
        "scrolled": true,
        "id": "-sqv-1a1tJ2e",
        "colab_type": "code",
        "colab": {},
        "outputId": "f4bac7a8-ea69-4d90-ae63-dd3da77f20ca"
      },
      "source": [
        "from sklearn.model_selection import cross_val_score\n",
        "\n",
        "tree_scores = cross_val_score(tree_reg, stocks_prepared, stocks_labels,\n",
        "                         scoring=\"neg_mean_squared_error\", cv=10)\n",
        "tree_scores"
      ],
      "execution_count": null,
      "outputs": [
        {
          "output_type": "execute_result",
          "data": {
            "text/plain": [
              "array([-1241.11055412, -1570.40693797,  -233.35198626,  -283.73681288,\n",
              "         -86.83150677,  -359.02901174,  -278.69115968,  -258.20292736,\n",
              "        -133.20763173,  -490.63965021])"
            ]
          },
          "metadata": {
            "tags": []
          },
          "execution_count": 155
        }
      ]
    },
    {
      "cell_type": "code",
      "metadata": {
        "id": "Y9TdHne1tJ2i",
        "colab_type": "code",
        "colab": {},
        "outputId": "2e385b67-2a28-4115-adeb-3963e7f88ebf"
      },
      "source": [
        "lin_scores = cross_val_score(lin_reg, stocks_prepared, stocks_labels,\n",
        "                         scoring=\"neg_mean_squared_error\", cv=10)\n",
        "lin_scores\n",
        "\n",
        "lin_rmse_scores = np.sqrt(-lin_scores)\n",
        "\n",
        "def display_scores(scores):\n",
        "    print(\"Scores:\", scores)\n",
        "    print(\"Mean:\", scores.mean())\n",
        "    print(\"Standard Deviation:\", scores.std())\n",
        "\n",
        "display_scores(lin_rmse_scores)"
      ],
      "execution_count": null,
      "outputs": [
        {
          "output_type": "stream",
          "text": [
            "Scores: [29.09786891 24.81762507 16.14757267 23.0324711  15.78836746 21.64347079\n",
            " 20.50423879 30.28485487 15.34433339 16.47711635]\n",
            "Mean: 21.313791939430565\n",
            "Standard Deviation: 5.227949853971594\n"
          ],
          "name": "stdout"
        }
      ]
    },
    {
      "cell_type": "code",
      "metadata": {
        "scrolled": true,
        "id": "MkdzJmzctJ2m",
        "colab_type": "code",
        "colab": {},
        "outputId": "130b1dd0-4329-4fb0-bc42-80f924470e3d"
      },
      "source": [
        "display_scores(tree_scores)"
      ],
      "execution_count": null,
      "outputs": [
        {
          "output_type": "stream",
          "text": [
            "Scores: [-1241.11055412 -1570.40693797  -233.35198626  -283.73681288\n",
            "   -86.83150677  -359.02901174  -278.69115968  -258.20292736\n",
            "  -133.20763173  -490.63965021]\n",
            "Mean: -493.5208178727081\n",
            "Standard Deviation: 473.8265194831927\n"
          ],
          "name": "stdout"
        }
      ]
    },
    {
      "cell_type": "markdown",
      "metadata": {
        "id": "c1YWXr3DtJ2p",
        "colab_type": "text"
      },
      "source": [
        "### Ensemble (Random Forest Regressor)\n"
      ]
    },
    {
      "cell_type": "code",
      "metadata": {
        "id": "nS7y2gratJ2q",
        "colab_type": "code",
        "colab": {}
      },
      "source": [
        "from sklearn.ensemble import RandomForestRegressor\n",
        "forest_reg = RandomForestRegressor()\n",
        "forest_reg.fit(stocks_prepared, stocks_labels)\n",
        "\n",
        "forest_scores = cross_val_score(forest_reg, stocks_prepared, stocks_labels,\n",
        "                         scoring=\"neg_mean_squared_error\", cv=10)\n",
        "\n",
        "\n",
        "forest_rmse_scores = np.sqrt(-forest_scores)\n"
      ],
      "execution_count": null,
      "outputs": []
    },
    {
      "cell_type": "code",
      "metadata": {
        "id": "8flaVRLftJ2s",
        "colab_type": "code",
        "colab": {},
        "outputId": "0adb5abd-2380-4326-ffa9-b01e7a577274"
      },
      "source": [
        "display_scores(forest_rmse_scores)"
      ],
      "execution_count": null,
      "outputs": [
        {
          "output_type": "stream",
          "text": [
            "Scores: [17.54763635 17.38380548 11.25273305 13.94080522 12.0053719  14.86401302\n",
            " 17.31494485 20.55947435 10.03449371 15.12546913]\n",
            "Mean: 15.00287470620537\n",
            "Standard Deviation: 3.118682574054477\n"
          ],
          "name": "stdout"
        }
      ]
    },
    {
      "cell_type": "markdown",
      "metadata": {
        "id": "1FjovGY2tJ2v",
        "colab_type": "text"
      },
      "source": [
        "## Testing the Algorithm\n",
        "\n",
        "### The RandomForest Regressor on The Test Data"
      ]
    },
    {
      "cell_type": "code",
      "metadata": {
        "id": "Mxo2lKQwtJ2w",
        "colab_type": "code",
        "colab": {}
      },
      "source": [
        "stocks_test = test_set.drop(\"Apple Price\", axis=1)\n",
        "test_labels = test_set['Apple Price'].copy()\n",
        "test_labels = stocks_labels.dropna()\n",
        "stocks_test = stocks.dropna()\n",
        "\n",
        "test_prepared = pipeline.transform(stocks_test)\n",
        "\n",
        "forest_scores = cross_val_score(forest_reg, test_prepared, test_labels,\n",
        "                         scoring=\"neg_mean_squared_error\", cv=10)\n",
        "\n",
        "\n",
        "forest_rmse_scores = np.sqrt(-forest_scores)\n"
      ],
      "execution_count": null,
      "outputs": []
    },
    {
      "cell_type": "code",
      "metadata": {
        "id": "sAzxJGOEtJ21",
        "colab_type": "code",
        "colab": {},
        "outputId": "a47c6f46-7e1e-4f52-bc6d-465b59888d94"
      },
      "source": [
        "display_scores(forest_rmse_scores)"
      ],
      "execution_count": null,
      "outputs": [
        {
          "output_type": "stream",
          "text": [
            "Scores: [18.7802254  17.80429041 11.1846665  13.10606918 12.4280426  16.10229582\n",
            " 17.9243827  19.41136731  9.15030437 16.11451723]\n",
            "Mean: 15.2006161510477\n",
            "Standard Deviation: 3.334647032229709\n"
          ],
          "name": "stdout"
        }
      ]
    },
    {
      "cell_type": "markdown",
      "metadata": {
        "id": "CH4IcLhOtJ24",
        "colab_type": "text"
      },
      "source": [
        "## Discussion\n",
        "\n",
        "Although no one should be investing all their savings based on this model just yet, the results are relatively positive. We knew from the onset that we did not have access to all the appropriate data we could have used and the time lines are questionable. We do know that at least within the scope of this paper, the algorithm generalized well to the unseen data. While the analysis here may seem obvious or intuitive, \"Apple and Samsung are competitors, naturally their stocks are somewhat correlated.\" It may serve as a starting point for more rigorous analysis."
      ]
    }
  ]
}